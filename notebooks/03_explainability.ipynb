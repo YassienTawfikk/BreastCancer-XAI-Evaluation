{
 "cells": [
  {
   "cell_type": "markdown",
   "id": "93790023",
   "metadata": {},
   "source": [
    "# Explainability\n",
    "Generate SHAP plots for all models."
   ]
  },
  {
   "cell_type": "code",
   "execution_count": null,
   "id": "e80ec50d",
   "metadata": {},
   "outputs": [],
   "source": [
    "import pandas as pd\n",
    "import joblib, shap, matplotlib.pyplot as plt\n",
    "from pathlib import Path\n",
    "\n",
    "train_df = pd.read_csv('../datasets/processed_train.csv')\n",
    "test_df = pd.read_csv('../datasets/processed_test.csv')\n",
    "X_train = train_df.drop('target', axis=1)\n",
    "X_test = test_df.drop('target', axis=1)\n",
    "base = Path('../outputs')\n",
    "models = {\n",
    "    'Logistic Regression': joblib.load(base / 'Logistic Regression' / 'model' / 'logistic_regression_model.pkl'),\n",
    "    'Random Forest': joblib.load(base / 'Random Forest' / 'model' / 'random_forest_model.pkl'),\n",
    "    'SVM': joblib.load(base / 'SVM' / 'model' / 'svm_model.pkl'),\n",
    "}\n",
    "for name, model in models.items():\n",
    "    explainer = shap.Explainer(model, X_train)\n",
    "    shap_values = explainer(X_test)\n",
    "    plot_dir = base / name / 'plots'\n",
    "    plot_dir.mkdir(parents=True, exist_ok=True)\n",
    "    shap.summary_plot(shap_values, X_test, show=False)\n",
    "    plt.savefig(plot_dir / 'shap_summary.png', bbox_inches='tight')\n",
    "    plt.close()\n",
    "    shap.plots.waterfall(shap_values[0], show=False)\n",
    "    plt.savefig(plot_dir / 'shap_local_0.png', bbox_inches='tight')\n",
    "    plt.close()\n"
   ]
  }
 ],
 "metadata": {
  "kernelspec": {
   "display_name": "Python 3",
   "language": "python",
   "name": "python3"
  },
  "language_info": {
   "name": "python",
   "version": "2.7.6"
  }
 },
 "nbformat": 4,
 "nbformat_minor": 5
}
